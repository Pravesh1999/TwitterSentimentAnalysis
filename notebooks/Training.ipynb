{
 "cells": [
  {
   "cell_type": "code",
   "execution_count": 1,
   "id": "1937457d-8934-4c89-8c14-9bdcdda6b864",
   "metadata": {
    "tags": []
   },
   "outputs": [],
   "source": [
    "import pandas as pd\n",
    "import numpy as np\n",
    "from tokenizers import BertWordPieceTokenizer\n",
    "from transformers import BertTokenizer, BertModel\n",
    "from transformers import AutoTokenizer\n",
    "import torch\n",
    "from torch.utils.data import Dataset, DataLoader\n",
    "from sklearn.model_selection import train_test_split\n",
    "from DatasetLoader import LoadDataset\n",
    "import os\n",
    "import random\n",
    "import torch.nn as nn\n",
    "import torch.optim as optim\n",
    "import time\n",
    "import torch.nn.functional as F\n",
    "import matplotlib.pyplot as plt\n",
    "from sklearn.metrics import f1_score, confusion_matrix, accuracy_score\n",
    "import matplotlib.pyplot as plt\n",
    "import seaborn as sns\n",
    "from settings import *\n",
    "import yaml\n",
    "from mlp import MLPClassifier\n",
    "from cnn import CNNModel\n",
    "from lstm import LSTMTextClassifier\n",
    "from lstm_multihead import LSTMMultiHeadAttention\n",
    "from settings import *\n",
    "from utils import *\n",
    "from eval import *"
   ]
  },
  {
   "cell_type": "code",
   "execution_count": 2,
   "id": "9032482e-e098-48b0-a576-af76c86afb14",
   "metadata": {
    "tags": []
   },
   "outputs": [],
   "source": [
    "data = pd.read_csv('../data/processed/Cleaned Tweets.csv')"
   ]
  },
  {
   "cell_type": "markdown",
   "id": "9df20c14-4151-4047-8260-38458f5c50a7",
   "metadata": {},
   "source": [
    "## Initialise BERT tokenizer"
   ]
  },
  {
   "cell_type": "code",
   "execution_count": 3,
   "id": "4bf9c852-8cae-4ce7-ba23-7824e9a83ba4",
   "metadata": {
    "tags": []
   },
   "outputs": [],
   "source": [
    "tokenizer = BertTokenizer.from_pretrained('bert-base-uncased')"
   ]
  },
  {
   "cell_type": "code",
   "execution_count": 4,
   "id": "ea7d5461-ea31-4457-8aff-ae55fbb5d1e6",
   "metadata": {
    "tags": []
   },
   "outputs": [],
   "source": [
    "texts = data['Cleaned Content'].values.tolist()"
   ]
  },
  {
   "cell_type": "code",
   "execution_count": 5,
   "id": "aef17a8d-e78c-40f9-8e11-c3a0a6c7078a",
   "metadata": {
    "tags": []
   },
   "outputs": [],
   "source": [
    "labels = data[['angry','disappointed','happy']].values.tolist()"
   ]
  },
  {
   "cell_type": "markdown",
   "id": "c4b6c244-7424-43ec-a33d-0df2a73c93eb",
   "metadata": {
    "tags": []
   },
   "source": [
    "## Load dataset"
   ]
  },
  {
   "cell_type": "code",
   "execution_count": 6,
   "id": "c78ac6c7-a05f-43e7-b269-3ec8342b4695",
   "metadata": {
    "tags": []
   },
   "outputs": [],
   "source": [
    "set_seed(seed_value=42)\n",
    "train_texts, temp_texts, train_labels, temp_labels = train_test_split(texts, labels, test_size=0.3, random_state=42)\n",
    "valid_texts, test_texts, valid_labels, test_labels = train_test_split(temp_texts, temp_labels, test_size=0.5, random_state=42)"
   ]
  },
  {
   "cell_type": "code",
   "execution_count": 11,
   "id": "4b5fc319-31d6-43c6-978a-f5e36d5a8b1c",
   "metadata": {
    "tags": []
   },
   "outputs": [
    {
     "name": "stdout",
     "output_type": "stream",
     "text": [
      "[45402. 46830. 45254.]\n"
     ]
    }
   ],
   "source": [
    "print(np.array(valid_labels).sum(axis=0))"
   ]
  },
  {
   "cell_type": "code",
   "execution_count": 7,
   "id": "41d71011-6198-4f82-b6b5-726e578872c2",
   "metadata": {},
   "outputs": [],
   "source": [
    "set_seed(seed_value=42)\n",
    "train_dataset = LoadDataset(train_texts, train_labels,tokenizer)\n",
    "valid_dataset = LoadDataset(valid_texts, valid_labels,tokenizer)\n",
    "test_dataset = LoadDataset(test_texts, test_labels,tokenizer)"
   ]
  },
  {
   "cell_type": "code",
   "execution_count": 8,
   "id": "1484ab5a-cb4a-43f3-8eed-d15b9724fd3c",
   "metadata": {
    "tags": []
   },
   "outputs": [
    {
     "name": "stdout",
     "output_type": "stream",
     "text": [
      "Number of examples in train dataset:  641602\n",
      "Number of examples in validation dataset:  137486\n",
      "Number of examples in test dataset:  137487\n"
     ]
    }
   ],
   "source": [
    "print(\"Number of examples in train dataset: \",len(train_dataset))\n",
    "print(\"Number of examples in validation dataset: \",len(valid_dataset))\n",
    "print(\"Number of examples in test dataset: \",len(test_dataset))"
   ]
  },
  {
   "cell_type": "code",
   "execution_count": 9,
   "id": "485fcf2d-26fe-42ec-a29d-0af2aeece098",
   "metadata": {
    "tags": []
   },
   "outputs": [],
   "source": [
    "num_cpus = os.cpu_count()"
   ]
  },
  {
   "cell_type": "code",
   "execution_count": 10,
   "id": "efbda7c3-f1ed-4356-a2e9-68cc821fc1e3",
   "metadata": {
    "tags": []
   },
   "outputs": [],
   "source": [
    "set_seed(seed_value=42)\n",
    "train_loader = DataLoader(train_dataset, batch_size=BATCH_SIZE, shuffle=True,num_workers=num_cpus)\n",
    "valid_loader = DataLoader(valid_dataset, batch_size=BATCH_SIZE,num_workers=num_cpus)\n",
    "test_loader = DataLoader(test_dataset, batch_size=BATCH_SIZE,num_workers=num_cpus)"
   ]
  },
  {
   "cell_type": "code",
   "execution_count": 11,
   "id": "23bd124f-7f39-4f17-a095-f1733ee1781c",
   "metadata": {
    "tags": []
   },
   "outputs": [],
   "source": [
    "vocab_size = tokenizer.vocab_size  # Vocabulary size from the tokenizer"
   ]
  },
  {
   "cell_type": "markdown",
   "id": "4dd45979-5c09-4f9e-b35d-929dfb4730ae",
   "metadata": {},
   "source": [
    "## Models"
   ]
  },
  {
   "cell_type": "code",
   "execution_count": 12,
   "id": "d2ceb0b2-d35a-47f7-a449-79cf6e9b7b0d",
   "metadata": {
    "tags": []
   },
   "outputs": [],
   "source": [
    "set_seed(seed_value=42)\n",
    "cnn_params = read_config_file('hparams.yml', 'CNNModel')\n",
    "cnn_params['vocab_size'] = vocab_size\n",
    "cnn_model, cnn_optimizer = init_model(CNNModel, cnn_params)"
   ]
  },
  {
   "cell_type": "code",
   "execution_count": 13,
   "id": "93791449-27e8-4d18-a364-b3135fa14f5a",
   "metadata": {
    "tags": []
   },
   "outputs": [],
   "source": [
    "set_seed(seed_value=42)\n",
    "lstm_params = read_config_file('hparams.yml', 'LSTMTextClassifier')\n",
    "lstm_params['vocab_size'] = vocab_size\n",
    "lstm_model, lstm_optimizer = init_model(LSTMTextClassifier, lstm_params)"
   ]
  },
  {
   "cell_type": "code",
   "execution_count": 14,
   "id": "d39c849f-ac03-498f-b7d3-5a2af6fc83e3",
   "metadata": {
    "tags": []
   },
   "outputs": [],
   "source": [
    "set_seed(seed_value=42)\n",
    "mlp_params = read_config_file('hparams.yml', 'MLPClassifier')\n",
    "mlp_params['vocab_size'] = vocab_size\n",
    "mlp_model, mlp_optimizer = init_model(MLPClassifier, mlp_params)"
   ]
  },
  {
   "cell_type": "code",
   "execution_count": 15,
   "id": "52eb9f20-4ed6-46ae-ab54-cb621642a8c0",
   "metadata": {
    "tags": []
   },
   "outputs": [],
   "source": [
    "set_seed(seed_value=42)\n",
    "lstm_attention_params = read_config_file('hparams.yml', 'LSTMMultiHeadAttention')\n",
    "lstm_attention_params['vocab_size'] = vocab_size\n",
    "lstm_attention_model, lstm_attention_optimizer = init_model(LSTMMultiHeadAttention, \n",
    "                                                                lstm_attention_params)"
   ]
  },
  {
   "cell_type": "code",
   "execution_count": 16,
   "id": "ddbef6d9-89d1-4110-bb9a-1a790c6d7865",
   "metadata": {
    "tags": []
   },
   "outputs": [
    {
     "data": {
      "text/plain": [
       "LSTMMultiHeadAttention(\n",
       "  (embedding): Embedding(30522, 128)\n",
       "  (lstm): LSTM(128, 128, num_layers=4, batch_first=True, dropout=0.5, bidirectional=True)\n",
       "  (attention_heads): ModuleList(\n",
       "    (0-4): 5 x Linear(in_features=256, out_features=1, bias=True)\n",
       "  )\n",
       "  (fc): Linear(in_features=1280, out_features=3, bias=True)\n",
       ")"
      ]
     },
     "execution_count": 16,
     "metadata": {},
     "output_type": "execute_result"
    }
   ],
   "source": [
    "set_seed(seed_value=42)\n",
    "cnn_model.to(DEVICE)\n",
    "lstm_model.to(DEVICE)\n",
    "mlp_model.to(DEVICE)\n",
    "lstm_attention_model.to(DEVICE)"
   ]
  },
  {
   "cell_type": "markdown",
   "id": "171785c4-70bb-484b-a57c-5646d86a3096",
   "metadata": {},
   "source": [
    "## Training"
   ]
  },
  {
   "cell_type": "code",
   "execution_count": 17,
   "id": "15fdaaa9-495f-4a8d-a92b-21b397a5a6a9",
   "metadata": {
    "tags": []
   },
   "outputs": [],
   "source": [
    "loss_fn = nn.CrossEntropyLoss()"
   ]
  },
  {
   "cell_type": "code",
   "execution_count": 18,
   "id": "2613db3f-c579-45a1-878e-ae33176708d3",
   "metadata": {
    "tags": []
   },
   "outputs": [],
   "source": [
    "early_stopping = EarlyStopping(patience=3, verbose=True)"
   ]
  },
  {
   "cell_type": "code",
   "execution_count": null,
   "id": "db2fa7b7-bc12-4560-8438-ce8c7089d31e",
   "metadata": {
    "tags": []
   },
   "outputs": [
    {
     "name": "stdout",
     "output_type": "stream",
     "text": [
      "=======Starting Training========\n",
      " Epoch  |  Train Loss  |  Val Loss  |  Val Acc  |  Elapsed \n",
      "------------------------------------------------------------\n",
      "Validation loss decreased (inf --> 0.769072).  Saving model ...\n",
      "   1    |   0.868249   |  0.769072  |   61.81   |  1532.34 \n",
      "Validation loss decreased (0.769072 --> 0.683811).  Saving model ...\n",
      "   2    |   0.733602   |  0.683811  |   66.91   |  1599.93 \n",
      "Validation loss decreased (0.683811 --> 0.662112).  Saving model ...\n",
      "   3    |   0.690609   |  0.662112  |   69.38   |  1514.86 \n"
     ]
    }
   ],
   "source": [
    "train(mlp_model, mlp_optimizer, embedding_layer, train_loader, valid_loader, loss_fn, epochs=10, \n",
    "      model_save_path='../models/MLP_model.pth',early_stopping=early_stopping)"
   ]
  },
  {
   "cell_type": "code",
   "execution_count": 23,
   "id": "2b14e4b4-34d9-41ec-a03a-ae810248e5c7",
   "metadata": {
    "tags": []
   },
   "outputs": [],
   "source": [
    "early_stopping = EarlyStopping(patience=3, verbose=True)"
   ]
  },
  {
   "cell_type": "code",
   "execution_count": 24,
   "id": "68f79e6d-c983-47bd-b9ac-d9c6af1b5717",
   "metadata": {
    "tags": []
   },
   "outputs": [
    {
     "name": "stdout",
     "output_type": "stream",
     "text": [
      "=======Starting Training========\n",
      " Epoch  |  Train Loss  |  Val Loss  |  Val Acc  |  Elapsed \n",
      "------------------------------------------------------------\n",
      "Validation loss decreased (inf --> 0.437793).  Saving model ...\n",
      "   1    |   0.482058   |  0.437793  |   81.90   |  471.80  \n",
      "Validation loss decreased (0.437793 --> 0.353612).  Saving model ...\n",
      "   2    |   0.387953   |  0.353612  |   85.25   |  474.18  \n",
      "Validation loss decreased (0.353612 --> 0.310317).  Saving model ...\n",
      "   3    |   0.322569   |  0.310317  |   87.08   |  477.59  \n",
      "Validation loss decreased (0.310317 --> 0.293586).  Saving model ...\n",
      "   4    |   0.284263   |  0.293586  |   87.58   |  477.85  \n",
      "Validation loss decreased (0.293586 --> 0.281376).  Saving model ...\n",
      "   5    |   0.260253   |  0.281376  |   88.04   |  479.24  \n",
      "Validation loss decreased (0.281376 --> 0.271706).  Saving model ...\n",
      "   6    |   0.243991   |  0.271706  |   88.59   |  483.24  \n",
      "Validation loss decreased (0.271706 --> 0.267671).  Saving model ...\n",
      "   7    |   0.230402   |  0.267671  |   88.71   |  478.87  \n",
      "EarlyStopping counter: 1 out of 3\n",
      "   8    |   0.219424   |  0.269421  |   88.77   |  475.41  \n",
      "Validation loss decreased (0.267671 --> 0.265199).  Saving model ...\n",
      "   9    |   0.209517   |  0.265199  |   88.89   |  471.37  \n",
      "EarlyStopping counter: 1 out of 3\n",
      "  10    |   0.200505   |  0.271159  |   88.82   |  468.60  \n"
     ]
    },
    {
     "name": "stderr",
     "output_type": "stream",
     "text": [
      "python(72127) MallocStackLogging: can't turn off malloc stack logging because it was not enabled.\n",
      "python(72136) MallocStackLogging: can't turn off malloc stack logging because it was not enabled.\n",
      "python(72139) MallocStackLogging: can't turn off malloc stack logging because it was not enabled.\n",
      "python(72142) MallocStackLogging: can't turn off malloc stack logging because it was not enabled.\n",
      "python(72145) MallocStackLogging: can't turn off malloc stack logging because it was not enabled.\n",
      "python(72153) MallocStackLogging: can't turn off malloc stack logging because it was not enabled.\n",
      "python(72156) MallocStackLogging: can't turn off malloc stack logging because it was not enabled.\n",
      "python(72169) MallocStackLogging: can't turn off malloc stack logging because it was not enabled.\n"
     ]
    },
    {
     "name": "stdout",
     "output_type": "stream",
     "text": [
      "EarlyStopping counter: 2 out of 3\n",
      "  11    |   0.192097   |  0.272801  |   88.70   |  478.78  \n"
     ]
    },
    {
     "name": "stderr",
     "output_type": "stream",
     "text": [
      "python(72412) MallocStackLogging: can't turn off malloc stack logging because it was not enabled.\n",
      "python(72428) MallocStackLogging: can't turn off malloc stack logging because it was not enabled.\n",
      "python(72432) MallocStackLogging: can't turn off malloc stack logging because it was not enabled.\n",
      "python(72441) MallocStackLogging: can't turn off malloc stack logging because it was not enabled.\n",
      "python(72447) MallocStackLogging: can't turn off malloc stack logging because it was not enabled.\n",
      "python(72460) MallocStackLogging: can't turn off malloc stack logging because it was not enabled.\n",
      "python(72466) MallocStackLogging: can't turn off malloc stack logging because it was not enabled.\n",
      "python(72474) MallocStackLogging: can't turn off malloc stack logging because it was not enabled.\n",
      "python(74037) MallocStackLogging: can't turn off malloc stack logging because it was not enabled.\n",
      "python(74042) MallocStackLogging: can't turn off malloc stack logging because it was not enabled.\n",
      "python(74049) MallocStackLogging: can't turn off malloc stack logging because it was not enabled.\n",
      "python(74052) MallocStackLogging: can't turn off malloc stack logging because it was not enabled.\n",
      "python(74055) MallocStackLogging: can't turn off malloc stack logging because it was not enabled.\n",
      "python(74058) MallocStackLogging: can't turn off malloc stack logging because it was not enabled.\n",
      "python(74065) MallocStackLogging: can't turn off malloc stack logging because it was not enabled.\n",
      "python(74068) MallocStackLogging: can't turn off malloc stack logging because it was not enabled.\n"
     ]
    },
    {
     "name": "stdout",
     "output_type": "stream",
     "text": [
      "EarlyStopping counter: 3 out of 3\n",
      "Early stopping\n",
      "\n",
      "\n",
      "==========Best Accuracy After training================ 88.88797760009766\n"
     ]
    }
   ],
   "source": [
    "train(cnn_model, cnn_optimizer, train_loader, valid_loader, loss_fn, epochs=15, \n",
    "      model_save_path='../models/CNN_model.pth',early_stopping=early_stopping)"
   ]
  },
  {
   "cell_type": "code",
   "execution_count": 23,
   "id": "9b5b48f2-26b7-4c63-aaf3-27723eca966d",
   "metadata": {
    "tags": []
   },
   "outputs": [],
   "source": [
    "early_stopping = EarlyStopping(patience=3, verbose=True)"
   ]
  },
  {
   "cell_type": "code",
   "execution_count": 24,
   "id": "077beb1c-79d5-4daa-bc0b-2ea8c38a6401",
   "metadata": {
    "collapsed": true,
    "jupyter": {
     "outputs_hidden": true
    },
    "tags": []
   },
   "outputs": [
    {
     "name": "stdout",
     "output_type": "stream",
     "text": [
      "=======Starting Training========\n",
      " Epoch  |  Train Loss  |  Val Loss  |  Val Acc  |  Elapsed \n",
      "------------------------------------------------------------\n",
      "Validation loss decreased (inf --> 0.796609).  Saving model ...\n",
      "   1    |   0.971329   |  0.796609  |   62.12   |  4637.36 \n",
      "Validation loss decreased (0.796609 --> 0.634102).  Saving model ...\n",
      "   2    |   0.760329   |  0.634102  |   72.83   |  4652.04 \n",
      "Validation loss decreased (0.634102 --> 0.525345).  Saving model ...\n",
      "   3    |   0.636618   |  0.525345  |   78.24   |  4611.77 \n"
     ]
    },
    {
     "name": "stderr",
     "output_type": "stream",
     "text": [
      "Exception ignored in: <function _MultiProcessingDataLoaderIter.__del__ at 0x13ea85f80>\n",
      "Traceback (most recent call last):\n",
      "  File \"/Users/praveshpradheep/anaconda3/envs/ml/lib/python3.11/site-packages/torch/utils/data/dataloader.py\", line 1479, in __del__\n",
      "    self._shutdown_workers()\n",
      "  File \"/Users/praveshpradheep/anaconda3/envs/ml/lib/python3.11/site-packages/torch/utils/data/dataloader.py\", line 1443, in _shutdown_workers\n",
      "    w.join(timeout=_utils.MP_STATUS_CHECK_INTERVAL)\n",
      "  File \"/Users/praveshpradheep/anaconda3/envs/ml/lib/python3.11/multiprocessing/process.py\", line 149, in join\n",
      "    res = self._popen.wait(timeout)\n",
      "          ^^^^^^^^^^^^^^^^^^^^^^^^^\n",
      "  File \"/Users/praveshpradheep/anaconda3/envs/ml/lib/python3.11/multiprocessing/popen_fork.py\", line 40, in wait\n",
      "    if not wait([self.sentinel], timeout):\n",
      "           ^^^^^^^^^^^^^^^^^^^^^^^^^^^^^^\n",
      "  File \"/Users/praveshpradheep/anaconda3/envs/ml/lib/python3.11/multiprocessing/connection.py\", line 930, in wait\n",
      "    ready = selector.select(timeout)\n",
      "            ^^^^^^^^^^^^^^^^^^^^^^^^\n",
      "  File \"/Users/praveshpradheep/anaconda3/envs/ml/lib/python3.11/selectors.py\", line 415, in select\n",
      "    fd_event_list = self._selector.poll(timeout)\n",
      "                    ^^^^^^^^^^^^^^^^^^^^^^^^^^^^\n",
      "KeyboardInterrupt: \n",
      "\n",
      "KeyboardInterrupt\n",
      "\n"
     ]
    }
   ],
   "source": [
    "train(lstm_model, lstm_optimizer, embedding_layer, train_loader, valid_loader, loss_fn,\n",
    "      epochs=15, model_save_path='../models/LSTM_Model.pth',early_stopping=early_stopping)"
   ]
  },
  {
   "cell_type": "code",
   "execution_count": 19,
   "id": "92e89f7a-6586-446a-b558-6483cb69ea0c",
   "metadata": {
    "tags": []
   },
   "outputs": [],
   "source": [
    "early_stopping = EarlyStopping(patience=3, verbose=True)"
   ]
  },
  {
   "cell_type": "code",
   "execution_count": 20,
   "id": "bec776bc-7904-4de6-9ee8-2b6c0ab4e1a6",
   "metadata": {
    "tags": []
   },
   "outputs": [
    {
     "name": "stdout",
     "output_type": "stream",
     "text": [
      "=======Starting Training========\n",
      " Epoch  |  Train Loss  |  Val Loss  |  Val Acc  |  Elapsed \n",
      "------------------------------------------------------------\n",
      "Validation loss decreased (inf --> 1.093155).  Saving model ...\n",
      "   1    |   1.096615   |  1.093155  |   38.01   |  1440.70 \n",
      "Validation loss decreased (1.093155 --> 1.051816).  Saving model ...\n",
      "   2    |   1.078905   |  1.051816  |   42.81   |  1713.49 \n",
      "Validation loss decreased (1.051816 --> 0.839415).  Saving model ...\n",
      "   3    |   0.937495   |  0.839415  |   55.61   |  1681.86 \n",
      "Validation loss decreased (0.839415 --> 0.733189).  Saving model ...\n",
      "   4    |   0.779272   |  0.733189  |   66.87   |  1500.80 \n",
      "Validation loss decreased (0.733189 --> 0.631487).  Saving model ...\n",
      "   5    |   0.679888   |  0.631487  |   72.78   |  1559.07 \n",
      "Validation loss decreased (0.631487 --> 0.552391).  Saving model ...\n",
      "   6    |   0.584964   |  0.552391  |   76.65   |  1646.50 \n",
      "Validation loss decreased (0.552391 --> 0.491371).  Saving model ...\n",
      "   7    |   0.516036   |  0.491371  |   79.27   |  1490.01 \n",
      "Validation loss decreased (0.491371 --> 0.441081).  Saving model ...\n",
      "   8    |   0.460439   |  0.441081  |   81.65   |  1596.70 \n",
      "Validation loss decreased (0.441081 --> 0.416492).  Saving model ...\n",
      "   9    |   0.425828   |  0.416492  |   82.86   |  1659.66 \n",
      "Validation loss decreased (0.416492 --> 0.399740).  Saving model ...\n",
      "  10    |   0.403279   |  0.399740  |   83.64   |  1701.86 \n",
      "Validation loss decreased (0.399740 --> 0.387454).  Saving model ...\n",
      "  11    |   0.386079   |  0.387454  |   84.26   |  1526.89 \n",
      "Validation loss decreased (0.387454 --> 0.374592).  Saving model ...\n",
      "  12    |   0.372306   |  0.374592  |   84.86   |  1505.19 \n",
      "Validation loss decreased (0.374592 --> 0.362887).  Saving model ...\n",
      "  13    |   0.359528   |  0.362887  |   85.17   |  1504.72 \n",
      "Validation loss decreased (0.362887 --> 0.353862).  Saving model ...\n",
      "  14    |   0.347581   |  0.353862  |   85.61   |  1481.72 \n",
      "Validation loss decreased (0.353862 --> 0.341333).  Saving model ...\n",
      "  15    |   0.337020   |  0.341333  |   86.07   |  1434.11 \n",
      "Validation loss decreased (0.341333 --> 0.334930).  Saving model ...\n",
      "  16    |   0.326703   |  0.334930  |   86.22   |  1413.47 \n",
      "Validation loss decreased (0.334930 --> 0.332674).  Saving model ...\n",
      "  17    |   0.317111   |  0.332674  |   86.21   |  1395.14 \n",
      "Validation loss decreased (0.332674 --> 0.317878).  Saving model ...\n",
      "  18    |   0.309068   |  0.317878  |   86.93   |  1389.54 \n",
      "Validation loss decreased (0.317878 --> 0.309701).  Saving model ...\n",
      "  19    |   0.301302   |  0.309701  |   87.13   |  1377.26 \n",
      "Validation loss decreased (0.309701 --> 0.304704).  Saving model ...\n",
      "  20    |   0.294920   |  0.304704  |   87.29   |  1373.84 \n",
      "Validation loss decreased (0.304704 --> 0.299482).  Saving model ...\n",
      "  21    |   0.288631   |  0.299482  |   87.54   |  1369.45 \n",
      "Validation loss decreased (0.299482 --> 0.294346).  Saving model ...\n",
      "  22    |   0.283250   |  0.294346  |   87.71   |  1366.83 \n",
      "Validation loss decreased (0.294346 --> 0.292164).  Saving model ...\n",
      "  23    |   0.277995   |  0.292164  |   87.77   |  1359.02 \n",
      "Validation loss decreased (0.292164 --> 0.286068).  Saving model ...\n",
      "  24    |   0.273348   |  0.286068  |   88.00   |  1354.30 \n",
      "Validation loss decreased (0.286068 --> 0.282312).  Saving model ...\n",
      "  25    |   0.269275   |  0.282312  |   88.21   |  1351.94 \n",
      "Validation loss decreased (0.282312 --> 0.282027).  Saving model ...\n",
      "  26    |   0.265354   |  0.282027  |   88.17   |  1397.30 \n",
      "Validation loss decreased (0.282027 --> 0.276725).  Saving model ...\n",
      "  27    |   0.261699   |  0.276725  |   88.37   |  1486.04 \n",
      "Validation loss decreased (0.276725 --> 0.276332).  Saving model ...\n",
      "  28    |   0.257960   |  0.276332  |   88.37   |  1427.82 \n",
      "Validation loss decreased (0.276332 --> 0.270624).  Saving model ...\n",
      "  29    |   0.254938   |  0.270624  |   88.67   |  1529.27 \n",
      "EarlyStopping counter: 1 out of 3\n",
      "  30    |   0.252084   |  0.272086  |   88.68   |  1553.52 \n",
      "\n",
      "\n",
      "==========Best Accuracy After training================ 88.67868041992188\n"
     ]
    }
   ],
   "source": [
    "train(lstm_attention_model, lstm_attention_optimizer, train_loader, valid_loader, loss_fn,\n",
    "      epochs=30, model_save_path='../models/LSTM_Attention_Model.pth',\n",
    "      early_stopping=early_stopping)"
   ]
  },
  {
   "cell_type": "markdown",
   "id": "dc371c50-11ef-4787-9fae-2da7626fb903",
   "metadata": {},
   "source": [
    "## INFERENCE"
   ]
  },
  {
   "cell_type": "code",
   "execution_count": 26,
   "id": "97ac2ce0-d6aa-4690-a7d7-3b72b0b8182a",
   "metadata": {
    "tags": []
   },
   "outputs": [],
   "source": [
    "cnn_state_dict = torch.load('../models/CNN_Model.pth')"
   ]
  },
  {
   "cell_type": "code",
   "execution_count": 27,
   "id": "63736a07-bd93-4022-b81f-226795b340a7",
   "metadata": {
    "tags": []
   },
   "outputs": [],
   "source": [
    "lstm_state_dict = torch.load('../models/LSTM_Model.pth')"
   ]
  },
  {
   "cell_type": "code",
   "execution_count": 28,
   "id": "eabe802e-e2d0-4e71-baae-0b3ae1c2b4ad",
   "metadata": {
    "tags": []
   },
   "outputs": [],
   "source": [
    "cnn_model = cnn_model"
   ]
  },
  {
   "cell_type": "code",
   "execution_count": 29,
   "id": "7abcf134-e389-4a89-bd0f-e826413417ef",
   "metadata": {
    "tags": []
   },
   "outputs": [
    {
     "data": {
      "text/plain": [
       "<All keys matched successfully>"
      ]
     },
     "execution_count": 29,
     "metadata": {},
     "output_type": "execute_result"
    }
   ],
   "source": [
    "cnn_model.load_state_dict(cnn_state_dict)"
   ]
  },
  {
   "cell_type": "code",
   "execution_count": 30,
   "id": "a1f08610-a45f-44b2-aef0-84a65f94d8ea",
   "metadata": {
    "tags": []
   },
   "outputs": [],
   "source": [
    "lstm_model = bilstm_model"
   ]
  },
  {
   "cell_type": "code",
   "execution_count": 31,
   "id": "6eea49df-bc06-4cb1-b8a5-72afc146d05e",
   "metadata": {
    "tags": []
   },
   "outputs": [
    {
     "data": {
      "text/plain": [
       "<All keys matched successfully>"
      ]
     },
     "execution_count": 31,
     "metadata": {},
     "output_type": "execute_result"
    }
   ],
   "source": [
    "lstm_model.load_state_dict(lstm_state_dict)"
   ]
  },
  {
   "cell_type": "code",
   "execution_count": 36,
   "id": "cf20cb9d-f728-4b16-9988-57bbc8a4c963",
   "metadata": {
    "tags": []
   },
   "outputs": [],
   "source": [
    "def make_inference(model, data_loader, device, loss_fn):\n",
    "    model.eval()\n",
    "    all_preds = []\n",
    "    all_labels = []\n",
    "    total_loss = 0.0\n",
    "    total_samples = 0\n",
    "    \n",
    "    with torch.no_grad():\n",
    "        for batch_input, batch_labels in data_loader:\n",
    "            input_ids, attention_mask = batch_input\n",
    "            input_ids, batch_labels = input_ids.to(device), batch_labels.to(device)\n",
    "            batch_embeddings = embedding_layer(input_ids)\n",
    "            logits = model(batch_embeddings)\n",
    "            loss = loss_fn(logits, batch_labels)\n",
    "            total_loss += loss.item() * batch_labels.size(0)\n",
    "            total_samples += batch_labels.size(0)\n",
    "            \n",
    "            preds = torch.argmax(logits, dim=1)\n",
    "            labels = torch.argmax(batch_labels, dim=1)\n",
    "            all_preds.extend(preds.cpu().numpy())\n",
    "            all_labels.extend(labels.cpu().numpy())\n",
    "\n",
    "    avg_loss = total_loss / total_samples\n",
    "    avg_f1_score = f1_score(all_labels, all_preds, average='weighted')  # Use 'macro' or 'micro' as needed\n",
    "    avg_accuracy = accuracy_score(all_labels, all_preds) * 100\n",
    "    \n",
    "    # Confusion Matrix\n",
    "    cm = confusion_matrix(all_labels, all_preds)\n",
    "    plt.figure(figsize=(10, 7))\n",
    "    sns.heatmap(cm, annot=True, fmt='d', cmap='Blues', xticklabels=True, yticklabels=True)\n",
    "    plt.xlabel('Predicted Labels')\n",
    "    plt.ylabel('True Labels')\n",
    "    plt.title('Confusion Matrix')\n",
    "    plt.savefig('confusion_matrix_cnn.png')\n",
    "    plt.show()\n",
    "    \n",
    "    return avg_loss, avg_accuracy, avg_f1_score"
   ]
  },
  {
   "cell_type": "code",
   "execution_count": 33,
   "id": "95c4e142-5bf4-4d79-8bd7-683f39612023",
   "metadata": {},
   "outputs": [
    {
     "data": {
      "image/png": "[encoded data removed]",
      "text/plain": [
       "<Figure size 1000x700 with 2 Axes>"
      ]
     },
     "metadata": {},
     "output_type": "display_data"
    }
   ],
   "source": [
    "_, test_accuracy_cnn,f1_score_cnn = make_inference(cnn_model, test_loader, \"mps\",loss_fn)"
   ]
  },
  {
   "cell_type": "code",
   "execution_count": 34,
   "id": "3e29fd21-8634-4cc3-8577-7bfce74bb4f9",
   "metadata": {
    "tags": []
   },
   "outputs": [
    {
     "data": {
      "text/plain": [
       "(89.84376704706627, 0.899201033442191)"
      ]
     },
     "execution_count": 34,
     "metadata": {},
     "output_type": "execute_result"
    }
   ],
   "source": [
    "test_accuracy,f1_score"
   ]
  },
  {
   "cell_type": "code",
   "execution_count": 38,
   "id": "5c4b0120-c1b8-4f3b-85a9-b62024a6d100",
   "metadata": {},
   "outputs": [
    {
     "data": {
      "image/png": "[encoded data removed]",
      "text/plain": [
       "<Figure size 1000x700 with 2 Axes>"
      ]
     },
     "metadata": {},
     "output_type": "display_data"
    }
   ],
   "source": [
    "_, test_accuracy,f1_score = make_inference(lstm_model, test_loader, \"mps\",loss_fn)"
   ]
  },
  {
   "cell_type": "code",
   "execution_count": null,
   "id": "e31b1b96-f7a7-4758-9202-7341c7ee7097",
   "metadata": {
    "tags": []
   },
   "outputs": [],
   "source": []
  },
  {
   "cell_type": "code",
   "execution_count": null,
   "id": "1199578d-ebff-49ef-9a6c-1f1296d28491",
   "metadata": {},
   "outputs": [],
   "source": []
  }
 ],
 "metadata": {
  "kernelspec": {
   "display_name": "Python 3 (ipykernel)",
   "language": "python",
   "name": "python3"
  },
  "language_info": {
   "codemirror_mode": {
    "name": "ipython",
    "version": 3
   },
   "file_extension": ".py",
   "mimetype": "text/x-python",
   "name": "python",
   "nbconvert_exporter": "python",
   "pygments_lexer": "ipython3",
   "version": "3.11.5"
  }
 },
 "nbformat": 4,
 "nbformat_minor": 5
}
