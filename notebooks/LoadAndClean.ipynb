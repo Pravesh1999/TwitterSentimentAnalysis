{
 "cells": [
  {
   "cell_type": "code",
   "execution_count": 1,
   "id": "0086fdfd-7d83-4f44-86b6-404ca3c3b9ab",
   "metadata": {
    "tags": []
   },
   "outputs": [],
   "source": [
    "import pandas as pd\n",
    "import torch\n",
    "import numpy as np\n",
    "import seaborn as sns\n",
    "import matplotlib.pyplot as plt\n",
    "import re\n",
    "from bs4 import BeautifulSoup\n",
    "import random\n",
    "import time\n",
    "import string\n",
    "from tqdm import tqdm\n",
    "import os\n",
    "from transformers import AutoTokenizer\n",
    "from pathlib import Path\n",
    "from tokenizers import BertWordPieceTokenizer\n",
    "from transformers import BertTokenizer\n",
    "from sklearn.model_selection import train_test_split\n",
    "from torch.utils.data import Dataset, DataLoader\n",
    "import torch.nn as nn\n",
    "import torch.nn.functional as F\n",
    "import torch.optim as optim"
   ]
  },
  {
   "cell_type": "code",
   "execution_count": 5,
   "id": "d3849919-c844-4a0e-bd5c-c0a3d630ad79",
   "metadata": {
    "tags": []
   },
   "outputs": [
    {
     "data": {
      "text/plain": [
       "<module 'posixpath' (frozen)>"
      ]
     },
     "execution_count": 5,
     "metadata": {},
     "output_type": "execute_result"
    }
   ],
   "source": [
    "os.path"
   ]
  },
  {
   "cell_type": "code",
   "execution_count": 6,
   "id": "e6d8c365-903d-4154-809a-62d247ba3b40",
   "metadata": {
    "tags": []
   },
   "outputs": [],
   "source": [
    "data = pd.read_csv('../data/raw/dataset(clean).csv')"
   ]
  },
  {
   "cell_type": "code",
   "execution_count": 7,
   "id": "4263e2b3-ac6f-44b0-8380-61380988d7c0",
   "metadata": {},
   "outputs": [
    {
     "data": {
      "text/html": [
       "<div>\n",
       "<style scoped>\n",
       "    .dataframe tbody tr th:only-of-type {\n",
       "        vertical-align: middle;\n",
       "    }\n",
       "\n",
       "    .dataframe tbody tr th {\n",
       "        vertical-align: top;\n",
       "    }\n",
       "\n",
       "    .dataframe thead th {\n",
       "        text-align: right;\n",
       "    }\n",
       "</style>\n",
       "<table border=\"1\" class=\"dataframe\">\n",
       "  <thead>\n",
       "    <tr style=\"text-align: right;\">\n",
       "      <th></th>\n",
       "      <th>Emotion</th>\n",
       "      <th>Content</th>\n",
       "      <th>Original Content</th>\n",
       "    </tr>\n",
       "  </thead>\n",
       "  <tbody>\n",
       "    <tr>\n",
       "      <th>0</th>\n",
       "      <td>disappointed</td>\n",
       "      <td>oh fuck did i wrote fil grinningfacewithsweat ...</td>\n",
       "      <td>b'RT @Davbingodav: @mcrackins Oh fuck.... did ...</td>\n",
       "    </tr>\n",
       "    <tr>\n",
       "      <th>1</th>\n",
       "      <td>disappointed</td>\n",
       "      <td>i feel nor am i shamed by it</td>\n",
       "      <td>i feel nor am i shamed by it</td>\n",
       "    </tr>\n",
       "    <tr>\n",
       "      <th>2</th>\n",
       "      <td>disappointed</td>\n",
       "      <td>i had been feeling a little bit defeated by th...</td>\n",
       "      <td>i had been feeling a little bit defeated by th...</td>\n",
       "    </tr>\n",
       "    <tr>\n",
       "      <th>3</th>\n",
       "      <td>happy</td>\n",
       "      <td>imagine if that reaction guy that called jj kf...</td>\n",
       "      <td>b\"@KSIOlajidebt imagine if that reaction guy t...</td>\n",
       "    </tr>\n",
       "    <tr>\n",
       "      <th>4</th>\n",
       "      <td>disappointed</td>\n",
       "      <td>i wouldnt feel burdened so that i would live m...</td>\n",
       "      <td>i wouldnt feel burdened so that i would live m...</td>\n",
       "    </tr>\n",
       "  </tbody>\n",
       "</table>\n",
       "</div>"
      ],
      "text/plain": [
       "        Emotion                                            Content  \\\n",
       "0  disappointed  oh fuck did i wrote fil grinningfacewithsweat ...   \n",
       "1  disappointed                       i feel nor am i shamed by it   \n",
       "2  disappointed  i had been feeling a little bit defeated by th...   \n",
       "3         happy  imagine if that reaction guy that called jj kf...   \n",
       "4  disappointed  i wouldnt feel burdened so that i would live m...   \n",
       "\n",
       "                                    Original Content  \n",
       "0  b'RT @Davbingodav: @mcrackins Oh fuck.... did ...  \n",
       "1                       i feel nor am i shamed by it  \n",
       "2  i had been feeling a little bit defeated by th...  \n",
       "3  b\"@KSIOlajidebt imagine if that reaction guy t...  \n",
       "4  i wouldnt feel burdened so that i would live m...  "
      ]
     },
     "execution_count": 7,
     "metadata": {},
     "output_type": "execute_result"
    }
   ],
   "source": [
    "data.head()"
   ]
  },
  {
   "cell_type": "code",
   "execution_count": 8,
   "id": "42560fea-2fd9-4583-85a8-b33a21eda7fc",
   "metadata": {},
   "outputs": [
    {
     "data": {
      "text/plain": [
       "(916575, 3)"
      ]
     },
     "execution_count": 8,
     "metadata": {},
     "output_type": "execute_result"
    }
   ],
   "source": [
    "data.shape"
   ]
  },
  {
   "cell_type": "code",
   "execution_count": 9,
   "id": "917676f4-493b-493d-9828-208803b1d274",
   "metadata": {
    "tags": []
   },
   "outputs": [
    {
     "name": "stdout",
     "output_type": "stream",
     "text": [
      "<class 'pandas.core.frame.DataFrame'>\n",
      "RangeIndex: 916575 entries, 0 to 916574\n",
      "Data columns (total 3 columns):\n",
      " #   Column            Non-Null Count   Dtype \n",
      "---  ------            --------------   ----- \n",
      " 0   Emotion           916575 non-null  object\n",
      " 1   Content           916575 non-null  object\n",
      " 2   Original Content  916575 non-null  object\n",
      "dtypes: object(3)\n",
      "memory usage: 21.0+ MB\n"
     ]
    }
   ],
   "source": [
    "data.info()"
   ]
  },
  {
   "cell_type": "markdown",
   "id": "c5c1b507-3a2f-41f1-96ec-c6353d0b295e",
   "metadata": {},
   "source": [
    "## EDA"
   ]
  },
  {
   "cell_type": "code",
   "execution_count": 10,
   "id": "84062559-66a0-48ab-ad33-f8123b623634",
   "metadata": {
    "tags": []
   },
   "outputs": [
    {
     "data": {
      "text/plain": [
       "<Axes: xlabel='Emotion', ylabel='count'>"
      ]
     },
     "execution_count": 10,
     "metadata": {},
     "output_type": "execute_result"
    },
    {
     "data": {
      "image/png": "[encoded data removed]",
      "text/plain": [
       "<Figure size 640x480 with 1 Axes>"
      ]
     },
     "metadata": {},
     "output_type": "display_data"
    }
   ],
   "source": [
    "sns.countplot(x=data['Emotion'])"
   ]
  },
  {
   "cell_type": "code",
   "execution_count": 11,
   "id": "a5217c54-11e1-4a3c-b6e9-dfc7d80ad05e",
   "metadata": {
    "tags": []
   },
   "outputs": [
    {
     "data": {
      "image/png": "[encoded data removed]",
      "text/plain": [
       "<Figure size 640x480 with 1 Axes>"
      ]
     },
     "metadata": {},
     "output_type": "display_data"
    }
   ],
   "source": [
    "sns.histplot(data=data, x=data['Original Content'].map(len),kde=True)\n",
    "\n",
    "# Add labels and title\n",
    "plt.xlabel('Length of Content')\n",
    "plt.ylabel('Frequency')\n",
    "plt.title('Histogram of Content Lengths')\n",
    "\n",
    "# Show the plot\n",
    "plt.show()"
   ]
  },
  {
   "cell_type": "markdown",
   "id": "c618b99f-16da-4378-b7ea-c3d7028f9c0f",
   "metadata": {},
   "source": [
    "## Pre-processing"
   ]
  },
  {
   "cell_type": "code",
   "execution_count": 12,
   "id": "831df949-3ab9-4e09-a57e-39b1c7d2d8e5",
   "metadata": {
    "tags": []
   },
   "outputs": [],
   "source": [
    "class CleanTweets:\n",
    "    \n",
    "    def __init__(self,texts):\n",
    "        self.texts = texts\n",
    "        self.cleaned_tweets = []\n",
    "        \n",
    "    def remove_urls(self,text):\n",
    "        # Regular expression to match URLs\n",
    "        url_pattern = re.compile(r'https?://\\S+|www\\.\\S+|bit\\.ly/\\S+|t\\.co/\\S+|tinyurl\\.\\S+')\n",
    "    \n",
    "        # Replace URLs with an empty string\n",
    "        return url_pattern.sub('', text)\n",
    "    \n",
    "    def remove_numbers(self,text):\n",
    "        # Regular expression to match numbers\n",
    "        numbers = re.compile(r'[0-9]+')\n",
    "        \n",
    "        # Replace number with an empty string\n",
    "        return numbers.sub('',text)\n",
    "    \n",
    "    def remove_mentions(self,text):\n",
    "        # Regular expression to match numbers\n",
    "        mentions = re.compile(r'@[a-zA-Z0-9_]+')\n",
    "        \n",
    "        # Replace mentions with an empty string\n",
    "        return mentions.sub('',text)\n",
    "    \n",
    "    def clean_html_tags(self,text):\n",
    "        # clean html tags off text using bs4\n",
    "        return BeautifulSoup(text).get_text()\n",
    "    \n",
    "    def handle_emoticons(self,text):\n",
    "        # Regular expression for emoticons\n",
    "        emoticon_pattern = re.compile(r':([\\w-]+):')\n",
    "        # Replace the emoticons without colon and as a string\n",
    "        modified_sentence = emoticon_pattern.sub(lambda match: ' '+match.group(1).replace('_', '')+' ', text)\n",
    "        \n",
    "        return re.sub(r'\\s+', ' ', modified_sentence)\n",
    "    \n",
    "    def handle_acronyms(self,text):\n",
    "        acronym_dict = {'afaik':'as far as i know','ama':'ask me anything','api':'application programming interface','asmr':'autonomous sensory meridian response','bc':'because'\n",
    "                        ,'b2b':'business-to-business','b2c':'business-to-consumer','b4':'before','bae':'before anyone else',\n",
    "                       'bff':'best friends forever','brb':'be right back','btaim':'be that as it may','bts':'behind the scenes','bwl':'bursting with laughter',\n",
    "                       'btw':'by the way','cc':'carbon copy','cpc':'cost per click','csl':'cannot stop laughing','bftba':'do not forget to be awesome',\n",
    "                       'f2f':'face to face','fb':'facebook','fomo':'fear of missing out','ftfy':'fixed that for you',\n",
    "                       'ftw':'for the win','gg':'good game','gr8':'great','grwm':'get ready with me',\n",
    "                       'goat':'greatest of all time','gtg':'got to go','gtr':'got to run','hbd':'happy birthday',\n",
    "                       'hmb':'hit me back','hifw':'how i feel when','hmu':'hit me up','hth':'happy to help',\n",
    "                       'idc':'i do not care','idk':'i do not know','ifyp':'i feel your pain','ig':'instagram','ikr':'i know right','ily':'i love you',\n",
    "                       'im':'instant message','imho':'in my humble opinion','imo':'in my opinion','imu':'i miss you',\n",
    "                       'irl':'in real life','jk':'just kidding','l8':'late','lamo': 'laughing my ass off','lmk':'let me know','lms':'like my status',\n",
    "                       'lol':'laughing out loud','lolz':'laughing out loud','mcm':'man crush monday','mfw':'my face when',\n",
    "                       'mm':'music monday','msg':'message','mtfbwy':'may the force be with you',\n",
    "                       'nbd':'no big deal','nm':'not much','nsfl':'not safe for life','nsfw':'not safe for work',\n",
    "                       'nvm':'never mind','oan':'on another note',\n",
    "                       'omg':'oh my god','omw':'on my way',\n",
    "                       'ootd':'outfit of the day','op':'original poster','otp':'one true pairing','potd':'photo of the day',\n",
    "                       'ppc':'pay per click','pm':'private message','ppl':'people','pr':'pagerank','psa':'public service accouncement',\n",
    "                       'qotd':'quote of the day','qq':'crying','rofl':'rolling on the floor laughing','roflmao':'rolling on the floor laughing my ass off',\n",
    "                       'roi':'return on investment','rt':'retweet','sc':'snapchat','sem':'search engine marketing','sm':'social media','smh':'shaking my head','sus':'suspicious','tbh':'to be honest',\n",
    "                       'tbt':'throwback thursday','tfw':'that feeling when','tgif':'thank goodness it is friday',\n",
    "                       'thx':'thanks','til':'today i learned','tldr':'too long did not read','tmi':'too much information','tntl':'trying not to laugh',\n",
    "                       'ttyl':'talk to you later','ttyn':'talk to you never','tw':'twitter','txt': 'text','wbu':'what about you ?','w/':'with','wcw':'women crush wednesday',\n",
    "                       'wfh':'work from home','wdymbt':'what do you mean by that?','wom':'word of mouth','wotd':'word of the day',\n",
    "                       'wywh':'wish you were here','ygtr':'you got that right','yolo':'you only live once','ysk':'you should know',\n",
    "                       'yt':'youtube'}\n",
    "        # Regular expression to match acronyms in text\n",
    "        pattern = re.compile(r'\\b(' + '|'.join(re.escape(key) for key in acronym_dict.keys()) + r')\\b')\n",
    "        return pattern.sub(lambda match: acronym_dict[match.group(0)], text)\n",
    "    \n",
    "    def handle_contractions(self, text):\n",
    "        CONTRACTION_MAP = {\n",
    "        \"ain't\": \"is not\", \"aren't\": \"are not\", \"can't\": \"cannot\",\n",
    "        \"can't've\": \"cannot have\", \"'cause\": \"because\", \"could've\": \"could have\", \"couldn't\": \"could not\",\n",
    "        \"couldn't've\": \"could not have\", \"didn't\": \"did not\", \"doesn't\": \"does not\",\n",
    "        \"don't\": \"do not\", \"hadn't\": \"had not\",\n",
    "        \"hadn't've\": \"had not have\", \"hasn't\": \"has not\", \"haven't\": \"have not\", \"he'd\": \"he would\",\n",
    "        \"he'd've\": \"he would have\", \"he'll\": \"he will\", \"he'll've\": \"he will have\", \"he's\": \"he is\",\n",
    "        \"how'd\": \"how did\", \"how'd'y\": \"how do you\", \"how'll\": \"how will\", \"how's\": \"how is\", \"I'd\": \"I would\",\n",
    "        \"I'd've\": \"I would have\", \"I'll\": \"I will\", \"I'll've\": \"I will have\", \"I'm\": \"I am\", \"I've\": \"I have\",\n",
    "        \"i'd\": \"i would\", \"i'd've\": \"i would have\", \"i'll\": \"i will\", \"i'll've\": \"i will have\",\n",
    "        \"i'm\": \"i am\", \"i've\": \"i have\", \"isn't\": \"is not\", \"it'd\": \"it would\", \"it'd've\": \"it would have\",\n",
    "        \"it'll\": \"it will\", \"it'll've\": \"it will have\",\n",
    "        \"it's\": \"it is\",\n",
    "        \"let's\": \"let us\",\n",
    "        \"ma'am\": \"madam\",\n",
    "        \"mayn't\": \"may not\",\n",
    "        \"might've\": \"might have\",\n",
    "        \"mightn't\": \"might not\",\n",
    "        \"mightn't've\": \"might not have\",\n",
    "        \"must've\": \"must have\",\n",
    "        \"mustn't\": \"must not\",\n",
    "        \"mustn't've\": \"must not have\",\n",
    "        \"needn't\": \"need not\",\n",
    "        \"needn't've\": \"need not have\",\n",
    "        \"o'clock\": \"of the clock\",\n",
    "        \"oughtn't\": \"ought not\",\n",
    "        \"oughtn't've\": \"ought not have\",\n",
    "        \"shan't\": \"shall not\",\n",
    "        \"sha'n't\": \"shall not\",\n",
    "        \"shan't've\": \"shall not have\",\n",
    "        \"she'd\": \"she would\",\n",
    "        \"she'd've\": \"she would have\",\n",
    "        \"she'll\": \"she will\",\n",
    "        \"she'll've\": \"she will have\",\n",
    "        \"she's\": \"she is\",\n",
    "        \"should've\": \"should have\",\n",
    "        \"shouldn't\": \"should not\",\n",
    "        \"shouldn't've\": \"should not have\",\n",
    "        \"so've\": \"so have\",\n",
    "        \"so's\": \"so as\",\n",
    "        \"that'd\": \"that would\",\n",
    "        \"that'd've\": \"that would have\",\n",
    "        \"that's\": \"that is\",\n",
    "        \"there'd\": \"there would\",\n",
    "        \"there'd've\": \"there would have\",\n",
    "        \"there's\": \"there is\",\n",
    "        \"they'd\": \"they would\",\n",
    "        \"they'd've\": \"they would have\",\n",
    "        \"they'll\": \"they will\",\n",
    "        \"they'll've\": \"they will have\",\n",
    "        \"they're\": \"they are\",\n",
    "        \"they've\": \"they have\",\n",
    "        \"to've\": \"to have\",\n",
    "        \"wasn't\": \"was not\",\n",
    "        \"we'd\": \"we would\",\n",
    "        \"we'd've\": \"we would have\",\n",
    "        \"we'll\": \"we will\",\n",
    "        \"we'll've\": \"we will have\",\n",
    "        \"we're\": \"we are\",\n",
    "        \"we've\": \"we have\",\n",
    "        \"weren't\": \"were not\",\n",
    "        \"what'll\": \"what will\",\n",
    "        \"what'll've\": \"what will have\",\n",
    "        \"what're\": \"what are\",\n",
    "        \"what's\": \"what is\",\n",
    "        \"what've\": \"what have\",\n",
    "        \"when's\": \"when is\",\n",
    "        \"when've\": \"when have\",\n",
    "        \"where'd\": \"where did\",\n",
    "        \"where's\": \"where is\",\n",
    "        \"where've\": \"where have\",\n",
    "        \"who'll\": \"who will\",\n",
    "        \"who'll've\": \"who will have\",\n",
    "        \"who's\": \"who is\",\n",
    "        \"who've\": \"who have\",\n",
    "        \"why's\": \"why is\",\n",
    "        \"why've\": \"why have\",\n",
    "        \"will've\": \"will have\",\n",
    "        \"won't\": \"will not\",\n",
    "        \"won't've\": \"will not have\",\n",
    "        \"would've\": \"would have\",\n",
    "        \"wouldn't\": \"would not\",\n",
    "        \"wouldn't've\": \"would not have\",\n",
    "        \"y'all\": \"you all\",\n",
    "        \"y'all'd\": \"you all would\",\n",
    "        \"y'all'd've\": \"you all would have\",\n",
    "        \"y'all're\": \"you all are\",\n",
    "        \"y'all've\": \"you all have\",\n",
    "        \"you'd\": \"you would\",\n",
    "        \"you'd've\": \"you would have\",\n",
    "        \"you'll\": \"you will\",\n",
    "        \"you'll've\": \"you will have\",\n",
    "        \"you're\": \"you are\",\n",
    "        \"you've\": \"you have\"\n",
    "    }\n",
    "        # Regex to look for contractions to expand\n",
    "        pattern = re.compile(r'\\b(' + '|'.join(re.escape(key) for key in CONTRACTION_MAP.keys()) + r')\\b')\n",
    "        # Expand contractions\n",
    "        return pattern.sub(lambda match: CONTRACTION_MAP[match.group(0)], text)\n",
    "\n",
    "    def remove_punctuations(self,text):\n",
    "        # Remove punctuations from the text\n",
    "        translator = str.maketrans(\"\", \"\", string.punctuation)\n",
    "        return text.translate(translator)\n",
    "    \n",
    "    def handle_hashtags(self,text):\n",
    "        # Remove hashtag from the text\n",
    "        hashtag = re.compile(r'#')\n",
    "        return hashtag.sub('',text)\n",
    "    \n",
    "    def clean_tweet(self):\n",
    "        for text in tqdm(self.texts):\n",
    "            text = text.replace(\"\\\\'\", \"'\")\n",
    "            if text.startswith(\"b'\") or text.startswith('b\"'):\n",
    "                text = text[2:-1]\n",
    "            text = text.replace('\\n', ' ').replace('\\t', ' ').lower()\n",
    "            rt_pattern = re.compile(r'^\\s*rt\\s+', re.IGNORECASE)\n",
    "            text = rt_pattern.sub('', text)\n",
    "            urls_removed = self.remove_urls(text)\n",
    "            numbers_removed = self.remove_numbers(urls_removed)\n",
    "            mentions_removed = self.remove_mentions(numbers_removed)\n",
    "            html_removed = self.clean_html_tags(mentions_removed)\n",
    "            hashtag_removed = self.handle_hashtags(html_removed)\n",
    "            acronyms_expanded = self.handle_acronyms(hashtag_removed)\n",
    "            contractions_expanded = self.handle_contractions(acronyms_expanded)\n",
    "            emoticons_cleaned = self.handle_emoticons(contractions_expanded)\n",
    "            punctuations_removed = self.remove_punctuations(emoticons_cleaned)\n",
    "            self.cleaned_tweets.append(punctuations_removed.strip())\n",
    "        return self.cleaned_tweets"
   ]
  },
  {
   "cell_type": "code",
   "execution_count": 13,
   "id": "7f2e3a62-677f-4cf9-b0e1-8b3c6d0b0328",
   "metadata": {
    "tags": []
   },
   "outputs": [],
   "source": [
    "clean_tweets = CleanTweets(data['Original Content'].tolist())"
   ]
  },
  {
   "cell_type": "code",
   "execution_count": 14,
   "id": "91aea7f4-9286-400b-931c-f4dad4ef0397",
   "metadata": {
    "tags": []
   },
   "outputs": [
    {
     "name": "stderr",
     "output_type": "stream",
     "text": [
      "  0%|                                                                                                                                                                                | 0/916575 [00:00<?, ?it/s]/var/folders/zh/vbh47d_10r73x8tsyq9ndp9r0000gn/T/ipykernel_53550/4108216800.py:30: MarkupResemblesLocatorWarning: The input looks more like a filename than markup. You may want to open this file and pass the filehandle into Beautiful Soup.\n",
      "  return BeautifulSoup(text).get_text()\n",
      "100%|████████████████████████████████████████████████████████████████████████████████████████████████████████████████████████████████████████████████████████████████| 916575/916575 [01:27<00:00, 10461.37it/s]\n"
     ]
    }
   ],
   "source": [
    "data['Cleaned Content'] = clean_tweets.clean_tweet()"
   ]
  },
  {
   "cell_type": "code",
   "execution_count": 15,
   "id": "3f853cfe-ec56-45b5-8ef7-22f9d83c786f",
   "metadata": {
    "tags": []
   },
   "outputs": [],
   "source": [
    "# Convert 'Emotion' column to categorical type\n",
    "data['Emotion'] = data['Emotion'].astype('category')\n",
    "\n",
    "# Perform one-hot encoding\n",
    "one_hot = pd.get_dummies(data['Emotion'])\n",
    "\n",
    "# Drop the original 'Emotion' column from the DataFrame\n",
    "data = data.drop('Emotion', axis=1)\n",
    "\n",
    "# Concatenate the one-hot encoded DataFrame with the original DataFrame\n",
    "data = pd.concat([data, one_hot], axis=1)"
   ]
  },
  {
   "cell_type": "code",
   "execution_count": 16,
   "id": "af7b0ecf-2647-46c4-b212-3e88518cf3b0",
   "metadata": {
    "tags": []
   },
   "outputs": [],
   "source": [
    "data[['angry','disappointed','happy']] = data[['angry','disappointed','happy']].astype(float)"
   ]
  },
  {
   "cell_type": "code",
   "execution_count": 17,
   "id": "dfdb2ff0-6e2a-4e3f-9e6f-08a6b07a9ced",
   "metadata": {
    "tags": []
   },
   "outputs": [],
   "source": [
    "data.to_csv('../data/processed/Cleaned Tweets.csv',index=False)"
   ]
  }
 ],
 "metadata": {
  "kernelspec": {
   "display_name": "Python 3 (ipykernel)",
   "language": "python",
   "name": "python3"
  },
  "language_info": {
   "codemirror_mode": {
    "name": "ipython",
    "version": 3
   },
   "file_extension": ".py",
   "mimetype": "text/x-python",
   "name": "python",
   "nbconvert_exporter": "python",
   "pygments_lexer": "ipython3",
   "version": "3.11.5"
  }
 },
 "nbformat": 4,
 "nbformat_minor": 5
}
